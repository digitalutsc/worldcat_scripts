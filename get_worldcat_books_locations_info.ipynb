{
 "cells": [
  {
   "cell_type": "markdown",
   "metadata": {},
   "source": [
    "* Purpose: Script to extract holding/location information from worldcat api results   \n",
    "* License: GPLv3 (Free Software) \n",
    "* Date: Oct 15, 2018\n",
    "* Aditional Notes: API Get Request: #http://www.worldcat.org/webservices/catalog/content/libraries/62123162?wskey={built-in-api-key}"
   ]
  },
  {
   "cell_type": "code",
   "execution_count": 9,
   "metadata": {
    "collapsed": true
   },
   "outputs": [],
   "source": [
    "from urllib.request import urlopen\n",
    "import numpy as np\n",
    "import pandas as pd\n",
    "import xml.etree.ElementTree as ET\n",
    "from geopy.geocoders import Nominatim"
   ]
  },
  {
   "cell_type": "code",
   "execution_count": 5,
   "metadata": {
    "collapsed": true
   },
   "outputs": [],
   "source": [
    "# Get info from API result xml\n",
    "oclc_number = \"62123162\"\n",
    "root = ET.parse('data/source/location_info.xml')\n",
    "holding_list = root.findall(\"./holding\")\n",
    "    \n",
    "location_info_df = pd.DataFrame()\n",
    "\n",
    "for holding in holding_list:\n",
    "    institutionIdentifier = holding.findtext(\"./institutionIdentifier/value\")\n",
    "    physicalLocation = holding.findtext(\"./physicalLocation\")\n",
    "    physicalAddress = holding.findtext(\"./physicalAddress/text\")\n",
    "    copiesCount = holding.findtext(\"./holdingSimple/copiesSummary/copiesCount\")\n",
    "    location_info_df = location_info_df.append({'oclc_number':oclc_number, 'institutionIdentifier': institutionIdentifier, 'physicalLocation': physicalLocation, 'physicalAddress': physicalAddress, 'copiesCount': copiesCount}, ignore_index=True)"
   ]
  },
  {
   "cell_type": "code",
   "execution_count": 6,
   "metadata": {},
   "outputs": [
    {
     "data": {
      "text/html": [
       "<div>\n",
       "<style>\n",
       "    .dataframe thead tr:only-child th {\n",
       "        text-align: right;\n",
       "    }\n",
       "\n",
       "    .dataframe thead th {\n",
       "        text-align: left;\n",
       "    }\n",
       "\n",
       "    .dataframe tbody tr th {\n",
       "        vertical-align: top;\n",
       "    }\n",
       "</style>\n",
       "<table border=\"1\" class=\"dataframe\">\n",
       "  <thead>\n",
       "    <tr style=\"text-align: right;\">\n",
       "      <th></th>\n",
       "      <th>copiesCount</th>\n",
       "      <th>institutionIdentifier</th>\n",
       "      <th>oclc_number</th>\n",
       "      <th>physicalAddress</th>\n",
       "      <th>physicalLocation</th>\n",
       "    </tr>\n",
       "  </thead>\n",
       "  <tbody>\n",
       "    <tr>\n",
       "      <th>0</th>\n",
       "      <td>1</td>\n",
       "      <td>OTC</td>\n",
       "      <td>62123162</td>\n",
       "      <td>Westerville, OH 43081 United States</td>\n",
       "      <td>Otterbein University</td>\n",
       "    </tr>\n",
       "    <tr>\n",
       "      <th>1</th>\n",
       "      <td>1</td>\n",
       "      <td>ANTCH</td>\n",
       "      <td>62123162</td>\n",
       "      <td>Yellow Springs, OH 45387 United States</td>\n",
       "      <td>Antioch University Library</td>\n",
       "    </tr>\n",
       "  </tbody>\n",
       "</table>\n",
       "</div>"
      ],
      "text/plain": [
       "  copiesCount institutionIdentifier oclc_number  \\\n",
       "0           1                   OTC    62123162   \n",
       "1           1                 ANTCH    62123162   \n",
       "\n",
       "                          physicalAddress            physicalLocation  \n",
       "0     Westerville, OH 43081 United States        Otterbein University  \n",
       "1  Yellow Springs, OH 45387 United States  Antioch University Library  "
      ]
     },
     "execution_count": 6,
     "metadata": {},
     "output_type": "execute_result"
    }
   ],
   "source": [
    "location_info_df.head(2)"
   ]
  },
  {
   "cell_type": "code",
   "execution_count": 7,
   "metadata": {
    "collapsed": true
   },
   "outputs": [],
   "source": [
    "# Find and add latitude and longitude values using geopy\n",
    "geolocator = Nominatim(user_agent=\"Natkeeran\")\n",
    "\n",
    "latitude_values = []\n",
    "longitude_values = []\n",
    "\n",
    "for index, row in location_info_df.iterrows():\n",
    "    physical_address = row[\"physicalAddress\"]\n",
    "    location = geolocator.geocode(physical_address)\n",
    "    latitude_values.append(location.latitude)\n",
    "    longitude_values.append(location.longitude)\n",
    "location_info_df['latitude'] = latitude_values\n",
    "location_info_df['longitude'] = longitude_values"
   ]
  },
  {
   "cell_type": "code",
   "execution_count": 8,
   "metadata": {
    "collapsed": true
   },
   "outputs": [],
   "source": [
    "location_info_df.head(10)\n",
    "location_info_df.to_csv(\"data/extracted/location_info.csv\", header=True, columns=[\"oclc_number\",\"institutionIdentifier\",\"physicalLocation\",\"physicalAddress\",\"copiesCount\",\"latitude\",\"longitude\"])"
   ]
  },
  {
   "cell_type": "code",
   "execution_count": null,
   "metadata": {
    "collapsed": true
   },
   "outputs": [],
   "source": []
  }
 ],
 "metadata": {
  "kernelspec": {
   "display_name": "Python 3",
   "language": "python",
   "name": "python3"
  },
  "language_info": {
   "codemirror_mode": {
    "name": "ipython",
    "version": 3
   },
   "file_extension": ".py",
   "mimetype": "text/x-python",
   "name": "python",
   "nbconvert_exporter": "python",
   "pygments_lexer": "ipython3",
   "version": "3.6.3"
  }
 },
 "nbformat": 4,
 "nbformat_minor": 2
}
