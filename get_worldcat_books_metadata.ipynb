{
 "cells": [
  {
   "cell_type": "markdown",
   "metadata": {},
   "source": [
    "* Purpose: Script to extract  books metadata information from worldcat api results   \n",
    "* License: GPLv3 (Free Software) \n",
    "* Date: Oct 15, 2018\n",
    "* Additional Notes: API GET Request: http://www.worldcat.org/webservices/catalog/content/62123162?wskey={built-in-api-key}&recordSchema=info%3Asrw%2Fschema%2F1%2Fdc"
   ]
  },
  {
   "cell_type": "code",
   "execution_count": 4,
   "metadata": {
    "collapsed": true
   },
   "outputs": [],
   "source": [
    "from urllib.request import urlopen\n",
    "import numpy as np\n",
    "import pandas as pd\n",
    "import xml.etree.ElementTree as ET\n",
    "from geopy.geocoders import Nominatim"
   ]
  },
  {
   "cell_type": "code",
   "execution_count": 6,
   "metadata": {
    "collapsed": true
   },
   "outputs": [],
   "source": [
    "# Get info from API result xml\n",
    "ns = {'dc': 'http://purl.org/dc/elements/1.1/', 'oclcterms': 'http://purl.org/oclc/terms/'}\n",
    "\n",
    "tree = ET.parse('data/source/book_metadata.xml')\n",
    "root = tree.getroot()\n",
    "\n",
    "title = root.findall('dc:title', ns)[0].text\n",
    "identifier_1 = root.findall('dc:identifier', ns)[0].text\n",
    "identifier_2 = root.findall('dc:identifier', ns)[1].text\n",
    "creator = root.findall('dc:creator', ns)[0].text\n",
    "contributor = root.findall('dc:contributor', ns)[0].text\n",
    "description = root.findall('dc:description', ns)[0].text\n",
    "date = root.findall('dc:date', ns)[0].text\n",
    "book_format = root.findall('dc:format', ns)[0].text\n",
    "language = root.findall('dc:language', ns)[0].text\n",
    "publisher = root.findall('dc:publisher', ns)[0].text\n",
    "\n",
    "oclc_number = root.findall('oclcterms:recordIdentifier', ns)[0].text\n",
    "oclc_record_creationdate = root.findall('oclcterms:recordCreationDate', ns)[0].text\n"
   ]
  },
  {
   "cell_type": "code",
   "execution_count": 7,
   "metadata": {},
   "outputs": [
    {
     "data": {
      "text/html": [
       "<div>\n",
       "<style>\n",
       "    .dataframe thead tr:only-child th {\n",
       "        text-align: right;\n",
       "    }\n",
       "\n",
       "    .dataframe thead th {\n",
       "        text-align: left;\n",
       "    }\n",
       "\n",
       "    .dataframe tbody tr th {\n",
       "        vertical-align: top;\n",
       "    }\n",
       "</style>\n",
       "<table border=\"1\" class=\"dataframe\">\n",
       "  <thead>\n",
       "    <tr style=\"text-align: right;\">\n",
       "      <th></th>\n",
       "      <th>book_format</th>\n",
       "      <th>contributor</th>\n",
       "      <th>creator</th>\n",
       "      <th>date</th>\n",
       "      <th>description</th>\n",
       "      <th>identifier_1</th>\n",
       "      <th>identifier_2</th>\n",
       "      <th>language</th>\n",
       "      <th>oclc_number</th>\n",
       "      <th>publisher</th>\n",
       "      <th>title</th>\n",
       "    </tr>\n",
       "  </thead>\n",
       "  <tbody>\n",
       "    <tr>\n",
       "      <th>0</th>\n",
       "      <td>xxx, 612 pages ; 24 cm</td>\n",
       "      <td>Sydie, R. A. (Rosalind Ann), 1940-</td>\n",
       "      <td>Adams, Bert N.</td>\n",
       "      <td>2002</td>\n",
       "      <td>Originally published: Thousand Oaks, Calif. : ...</td>\n",
       "      <td>817829219X</td>\n",
       "      <td>9788178292199</td>\n",
       "      <td>eng</td>\n",
       "      <td>62123162</td>\n",
       "      <td>Vistaar</td>\n",
       "      <td>Sociological theory</td>\n",
       "    </tr>\n",
       "  </tbody>\n",
       "</table>\n",
       "</div>"
      ],
      "text/plain": [
       "              book_format                         contributor         creator  \\\n",
       "0  xxx, 612 pages ; 24 cm  Sydie, R. A. (Rosalind Ann), 1940-  Adams, Bert N.   \n",
       "\n",
       "   date                                        description identifier_1  \\\n",
       "0  2002  Originally published: Thousand Oaks, Calif. : ...   817829219X   \n",
       "\n",
       "    identifier_2 language oclc_number publisher                 title  \n",
       "0  9788178292199      eng    62123162   Vistaar  Sociological theory   "
      ]
     },
     "execution_count": 7,
     "metadata": {},
     "output_type": "execute_result"
    }
   ],
   "source": [
    "booK_metadata_df = pd.DataFrame()\n",
    "booK_metadata_df = booK_metadata_df.append({'oclc_number':oclc_number, 'title': title, 'creator': creator, 'contributor': contributor, 'description': description, 'date': date, 'book_format': book_format, 'language': language, 'publisher': publisher, 'identifier_1': identifier_1, 'identifier_2': identifier_2}, ignore_index=True)\n",
    "booK_metadata_df.head()"
   ]
  },
  {
   "cell_type": "code",
   "execution_count": 9,
   "metadata": {
    "collapsed": true
   },
   "outputs": [],
   "source": [
    "booK_metadata_df.to_csv(\"data/extracted/books_metadata.csv\", header=True, columns=[\"oclc_number\",\"title\",\"creator\",\"contributor\",\"description\",\"date\",\"book_format\", \"language\", \"publisher\", \"identifier_1\", \"identifier_2\"])"
   ]
  },
  {
   "cell_type": "code",
   "execution_count": null,
   "metadata": {
    "collapsed": true
   },
   "outputs": [],
   "source": []
  }
 ],
 "metadata": {
  "kernelspec": {
   "display_name": "Python 3",
   "language": "python",
   "name": "python3"
  },
  "language_info": {
   "codemirror_mode": {
    "name": "ipython",
    "version": 3
   },
   "file_extension": ".py",
   "mimetype": "text/x-python",
   "name": "python",
   "nbconvert_exporter": "python",
   "pygments_lexer": "ipython3",
   "version": "3.6.3"
  }
 },
 "nbformat": 4,
 "nbformat_minor": 2
}
