{
 "cells": [
  {
   "cell_type": "markdown",
   "metadata": {},
   "source": [
    "* Purpose: Script to extract editions information from worldcat given oclc_number\n",
    "* License: GPLv3 (Free Software) \n",
    "* Date: Oct 15, 2018"
   ]
  },
  {
   "cell_type": "code",
   "execution_count": 1,
   "metadata": {
    "collapsed": true
   },
   "outputs": [],
   "source": [
    "# Load required libraries\n",
    "from urllib.request import urlopen\n",
    "from bs4 import BeautifulSoup\n",
    "import numpy as np\n",
    "import pandas as pd"
   ]
  },
  {
   "cell_type": "code",
   "execution_count": 2,
   "metadata": {
    "collapsed": true
   },
   "outputs": [],
   "source": [
    "# Finds how many total number of editions are for a given book\n",
    "# Based on Oct 15, 2018 OCLC editions page structure\n",
    "def find_total_editions_count(page_url):\n",
    "    page = urlopen(page_url)\n",
    "    page_html = BeautifulSoup(page, \"html.parser\")\n",
    "\n",
    "    table_results_info = page_html.findAll(\"table\",{\"class\":\"tableResultsInfo\"})\n",
    "    count_info = table_results_info[0].findAll(\"strong\")\n",
    "    items_count = int(count_info[1].text)\n",
    "    return items_count"
   ]
  },
  {
   "cell_type": "code",
   "execution_count": 3,
   "metadata": {
    "collapsed": true
   },
   "outputs": [],
   "source": [
    "# Finds how many total number of pages contain edition info for a given book\n",
    "# Based on Oct 15, 2018 OCLC editions page structure\n",
    "def get_editions_page_count(oclc_number):\n",
    "    page_url = \"https://www.worldcat.org/oclc/\" + str(oclc_number) + \"/editions\"\n",
    "    items_count = find_total_editions_count(page_url)\n",
    "    page_count = round(items_count / 10)\n",
    "    return page_count"
   ]
  },
  {
   "cell_type": "code",
   "execution_count": 4,
   "metadata": {
    "collapsed": true
   },
   "outputs": [],
   "source": [
    "# Gets a page of editions info and extracts required info\n",
    "def get_edition_info(oclc_number, start_edition, edition_info_df):\n",
    "    page_url = \"https://www.worldcat.org/oclc/\" + str(oclc_number) + \"/editions?start_edition=\" + str(start_edition)\n",
    "    page = urlopen(page_url)\n",
    "    page_html = BeautifulSoup(page, \"html.parser\")\n",
    "    \n",
    "    table_results = page_html.findAll(\"table\", {\"class\": \"table-results\"})\n",
    "    result_nodes = table_results[0].findAll(\"td\", attrs={\"class\": \"result\"})\n",
    "    \n",
    "    for td_node in result_nodes:\n",
    "        title_link = td_node.find('a', href=True)\n",
    "        title = title_link.text.strip()\n",
    "        \n",
    "        author_div = td_node.find('div', attrs={\"class\": \"author\"})\n",
    "        if author_div is not None:\n",
    "            author = author_div.text.strip()\n",
    "        \n",
    "        book_format_td = td_node.findNext('td')\n",
    "        if book_format_td is not None:\n",
    "            book_format = book_format_td.text.strip()\n",
    "        \n",
    "        language_td = book_format_td.findNext('td')\n",
    "        if language_td is not None:\n",
    "            language = language_td.text.strip()\n",
    "        \n",
    "        date_td = language_td.findNext('td')\n",
    "        if date_td is not None:\n",
    "            date = date_td.text.strip()\n",
    "        \n",
    "        publisher_td = date_td.findNext('td')\n",
    "        if publisher_td is not None:\n",
    "            publisher = publisher_td.text.strip()\n",
    "\n",
    "        edition_info_df = edition_info_df.append({'oclc_number':oclc_number, 'title': title, 'author': author, 'format': book_format, 'language': language, 'date':date, 'publisher': publisher}, ignore_index=True)\n",
    "    return edition_info_df"
   ]
  },
  {
   "cell_type": "code",
   "execution_count": 5,
   "metadata": {},
   "outputs": [
    {
     "data": {
      "text/html": [
       "<div>\n",
       "<style>\n",
       "    .dataframe thead tr:only-child th {\n",
       "        text-align: right;\n",
       "    }\n",
       "\n",
       "    .dataframe thead th {\n",
       "        text-align: left;\n",
       "    }\n",
       "\n",
       "    .dataframe tbody tr th {\n",
       "        vertical-align: top;\n",
       "    }\n",
       "</style>\n",
       "<table border=\"1\" class=\"dataframe\">\n",
       "  <thead>\n",
       "    <tr style=\"text-align: right;\">\n",
       "      <th></th>\n",
       "      <th>oclc_number</th>\n",
       "      <th>title</th>\n",
       "    </tr>\n",
       "  </thead>\n",
       "  <tbody>\n",
       "    <tr>\n",
       "      <th>0</th>\n",
       "      <td>62123162</td>\n",
       "      <td>Sociological theory</td>\n",
       "    </tr>\n",
       "    <tr>\n",
       "      <th>1</th>\n",
       "      <td>549028728</td>\n",
       "      <td>The structure of sociological theory</td>\n",
       "    </tr>\n",
       "  </tbody>\n",
       "</table>\n",
       "</div>"
      ],
      "text/plain": [
       "   oclc_number                                 title\n",
       "0     62123162                   Sociological theory\n",
       "1    549028728  The structure of sociological theory"
      ]
     },
     "execution_count": 5,
     "metadata": {},
     "output_type": "execute_result"
    }
   ],
   "source": [
    "# Read input info, i.e oclc_number\n",
    "book_info_df = pd.read_csv(\"data/source/book_info.csv\") \n",
    "book_info_df.head()"
   ]
  },
  {
   "cell_type": "code",
   "execution_count": 6,
   "metadata": {
    "collapsed": true
   },
   "outputs": [],
   "source": [
    "# Loop through the oclc numbers, get the edition info, and store that into a panada's dataframe\n",
    "edition_info_df = pd.DataFrame()\n",
    "\n",
    "for index, row in book_info_df.iterrows():\n",
    "    oclc_number = row[\"oclc_number\"]\n",
    "    page_count = get_editions_page_count(oclc_number)\n",
    "    \n",
    "    for page_number in range(page_count):\n",
    "        start_edition = (page_number * 10) + 1\n",
    "        edition_info_df = get_edition_info(oclc_number, start_edition, edition_info_df)    "
   ]
  },
  {
   "cell_type": "code",
   "execution_count": 8,
   "metadata": {
    "collapsed": true
   },
   "outputs": [],
   "source": [
    "# Write the result set dataframe into a file\n",
    "edition_info_df.to_csv(\"data/extracted/edition_info.csv\", header=True, columns=[\"oclc_number\",\"title\",\"author\",\"format\",\"language\",\"date\",\"publisher\"])"
   ]
  },
  {
   "cell_type": "code",
   "execution_count": null,
   "metadata": {
    "collapsed": true
   },
   "outputs": [],
   "source": []
  }
 ],
 "metadata": {
  "kernelspec": {
   "display_name": "Python 3",
   "language": "python",
   "name": "python3"
  },
  "language_info": {
   "codemirror_mode": {
    "name": "ipython",
    "version": 3
   },
   "file_extension": ".py",
   "mimetype": "text/x-python",
   "name": "python",
   "nbconvert_exporter": "python",
   "pygments_lexer": "ipython3",
   "version": "3.6.3"
  }
 },
 "nbformat": 4,
 "nbformat_minor": 2
}
